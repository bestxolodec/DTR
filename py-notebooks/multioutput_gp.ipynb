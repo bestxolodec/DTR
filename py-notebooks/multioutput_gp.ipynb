{
 "cells": [
  {
   "cell_type": "code",
   "execution_count": 1,
   "metadata": {},
   "outputs": [],
   "source": [
    "import pandas as pd\n",
    "import seaborn as sns \n",
    "import scipy as sp \n",
    "from  matplotlib import pyplot as plt\n",
    "sns.set(font_scale=1.1, style=\"white\",  #palette=\"viridis\", \n",
    "        rc={'font.size': 16, 'figure.figsize': (7,4), 'axes.grid': True, 'lines.linewidth':2.0, \n",
    "            'grid.color': '.8', 'grid.linewidth': 0.5,})\n"
   ]
  },
  {
   "cell_type": "code",
   "execution_count": 2,
   "metadata": {},
   "outputs": [],
   "source": [
    "%load_ext autoreload\n",
    "%autoreload 2\n",
    "%matplotlib inline\n",
    "%config InlineBackend.figure_format = 'svg'"
   ]
  },
  {
   "cell_type": "code",
   "execution_count": 17,
   "metadata": {},
   "outputs": [],
   "source": [
    "import GPy as gpy"
   ]
  },
  {
   "cell_type": "code",
   "execution_count": 3,
   "metadata": {},
   "outputs": [
    {
     "name": "stdout",
     "output_type": "stream",
     "text": [
      "itr.py is imported!\n"
     ]
    }
   ],
   "source": [
    "import sys\n",
    "sys.path.append(\"/Users/ipaulo/yandexDisk/DIPLOMA/CODE/py-src/\")\n",
    "from itr import * \n",
    "import rpy2.robjects as ro\n",
    "import rpy2\n",
    "# ro.r.source(\"/Users/ipaulo/yandexDisk/DIPLOMA/CODE/src/clean_sources.R\");"
   ]
  },
  {
   "cell_type": "code",
   "execution_count": 11,
   "metadata": {},
   "outputs": [
    {
     "data": {
      "text/plain": [
       "array([ 1,  1, -1,  0,  0, -1,  1,  0, -1, -1])"
      ]
     },
     "execution_count": 11,
     "metadata": {},
     "output_type": "execute_result"
    }
   ],
   "source": [
    "from numpy.random import RandomState\n",
    "prng = RandomState(1234567890)\n",
    "prng.randint(-1, 2, size=10)"
   ]
  },
  {
   "cell_type": "code",
   "execution_count": 201,
   "metadata": {},
   "outputs": [
    {
     "name": "stdout",
     "output_type": "stream",
     "text": [
      "itr.py is imported!\n"
     ]
    }
   ],
   "source": [
    "import go_amp"
   ]
  },
  {
   "cell_type": "code",
   "execution_count": 205,
   "metadata": {},
   "outputs": [
    {
     "name": "stdout",
     "output_type": "stream",
     "text": [
      "itr.py is imported!\n"
     ]
    }
   ],
   "source": [
    "f = lambda x: (x**2).sum()"
   ]
  },
  {
   "cell_type": "code",
   "execution_count": 235,
   "metadata": {},
   "outputs": [
    {
     "data": {
      "text/plain": [
       "(array([-0.00000001, -0.00000001]),\n",
       " 5.0000008931800974e-17,\n",
       " 123,\n",
       " 'Maximum number of function evaluations exceeded',\n",
       " (2, 0))"
      ]
     },
     "execution_count": 235,
     "metadata": {},
     "output_type": "execute_result"
    }
   ],
   "source": [
    "go_amp.AMPGO(f, [-1000, 100], maxiter=10 )"
   ]
  },
  {
   "cell_type": "code",
   "execution_count": null,
   "metadata": {},
   "outputs": [],
   "source": []
  },
  {
   "cell_type": "markdown",
   "metadata": {},
   "source": [
    "## Read data"
   ]
  },
  {
   "cell_type": "code",
   "execution_count": 162,
   "metadata": {},
   "outputs": [],
   "source": [
    "X, Y = np.load(\"../data/sarcos/Xtr.npy\"),  np.load(\"../data/sarcos/Ytr.npy\")\n",
    "rng = np.random.RandomState(777)\n",
    "n_train, n_test = 1000, 1000\n",
    "rnd_idxs = rng.randint(0, X.shape[0], n_train + n_test)\n",
    "\n",
    "Xtr, Ytr = [i[rnd_idxs[:n_train], :] for i in [X, Y]]\n",
    "Xts, Yts = [i[rnd_idxs[n_train:], :] for i in [X, Y]]\n",
    "# assert not np.in1d(tr_idxs, ts_idxs).max()"
   ]
  },
  {
   "cell_type": "code",
   "execution_count": null,
   "metadata": {},
   "outputs": [],
   "source": [
    "def plot_multiple_outputs(m,xlim,ylim):\n",
    "    fig = plt.figure(figsize=(12,8))\n",
    "    #Output 1\n",
    "    ax1 = fig.add_subplot(211)\n",
    "    ax1.set_xlim(xlim)\n",
    "    ax1.set_title('Output 1')\n",
    "    m.plot(plot_limits=xlim,fixed_inputs=[(1,0)],which_data_rows=slice(0,100),ax=ax1)\n",
    "    ax1.plot(Xt1[:,:1],Yt1,'rx',mew=1.5)\n",
    "    #Output 2\n",
    "    ax2 = fig.add_subplot(212)\n",
    "    ax2.set_xlim(xlim)\n",
    "    ax2.set_title('Output 2')\n",
    "    m.plot(plot_limits=xlim,fixed_inputs=[(1,1)],which_data_rows=slice(100,200),ax=ax2)\n",
    "    ax2.plot(Xt2[:,:1],Yt2,'rx',mew=1.5) "
   ]
  },
  {
   "cell_type": "code",
   "execution_count": null,
   "metadata": {},
   "outputs": [],
   "source": [
    "fig, ax = plt.subplots(5, 3, figsize=(9, 8))\n",
    "labels = []\n",
    "i = j = 0\n",
    "for n_size, grp_size in df.groupby(\"sample_size\"):\n",
    "    for sc, grp_size_sc in grp_size.groupby(\"scenario\"):\n",
    "        g = grp_size_sc.groupby(\"s_factor\")\n",
    "        ms = g.value_f.mean()\n",
    "        x, m = ms.index, ms.values\n",
    "        ms.plot(ax=ax[i,j])\n",
    "        std = g.value_f.std().values\n",
    "        ax[i,j].fill_between(x, m + std, m - std, color='g', alpha=0.1 )\n",
    "        if j == 0: ax[i,j].set_ylabel(\"n = {}\".format(n_size))\n",
    "        if i == 0: ax[i,j].set_title(sc)\n",
    "        j += 1 \n",
    "    i += 1\n",
    "    j = 0 \n",
    "# plt.tight_layout(pad = 1.01, h_pad=-0.2, w_pad=0.1)\n"
   ]
  },
  {
   "cell_type": "code",
   "execution_count": 107,
   "metadata": {},
   "outputs": [],
   "source": [
    "np.set_printoptions(suppress=True)"
   ]
  },
  {
   "cell_type": "code",
   "execution_count": 192,
   "metadata": {},
   "outputs": [],
   "source": [
    "from itertools import zip_longest"
   ]
  },
  {
   "cell_type": "code",
   "execution_count": 198,
   "metadata": {},
   "outputs": [
    {
     "data": {
      "text/plain": [
       "array(['C0', 'C1', 'C2', 'C3', 'C4', 'C5', 'C6', 'C7', 'C8', 'C9', 'C10',\n",
       "       'C11', 'C12', 'C13', 'C14', 'C15', 'C16', 'C17', 'C18', 'C19',\n",
       "       'C20', 'A0', 'A1', 'A2', 'A3', 'A4', 'A5', 'A6', 'R'], \n",
       "      dtype='<U3')"
      ]
     },
     "execution_count": 198,
     "metadata": {},
     "output_type": "execute_result"
    }
   ],
   "source": [
    "np.hstack([[ \"C{}\".format(i) for i in range(X.shape[1]) ],\n",
    "[ \"A{}\".format(i) for i in range(Y.shape[1]) ],\n",
    "[ \"R\" ]])"
   ]
  },
  {
   "cell_type": "markdown",
   "metadata": {},
   "source": [
    "### Baseline"
   ]
  },
  {
   "cell_type": "code",
   "execution_count": 186,
   "metadata": {},
   "outputs": [],
   "source": [
    "from sklearn.linear_model import LinearRegression\n",
    "from sklearn.base import clone\n",
    "\n",
    "lin_m = LinearRegression(n_jobs=-1)\n",
    "models = [clone(lin_m).fit(X, Y[:, i]) for i in range(Y.shape[1])]\n",
    "np.hstack([m.predict(X).reshape(-1,1) for m in models])"
   ]
  },
  {
   "cell_type": "code",
   "execution_count": null,
   "metadata": {},
   "outputs": [],
   "source": [
    "def get_rewards_for_preds(preds, Y):\n",
    "    return -np.square(preds - Y).sum(axis=1)"
   ]
  },
  {
   "cell_type": "markdown",
   "metadata": {},
   "source": [
    "###  Simple miltioutput GP "
   ]
  },
  {
   "cell_type": "code",
   "execution_count": 163,
   "metadata": {},
   "outputs": [
    {
     "name": "stderr",
     "output_type": "stream",
     "text": [
      " /Users/ipaulo/anaconda/lib/python3.5/site-packages/GPy/kern/src/stationary.py:160: RuntimeWarning:overflow encountered in true_divide\n",
      " /Users/ipaulo/anaconda/lib/python3.5/site-packages/GPy/kern/src/rbf.py:35: RuntimeWarning:overflow encountered in square\n",
      " /Users/ipaulo/anaconda/lib/python3.5/site-packages/GPy/kern/src/rbf.py:38: RuntimeWarning:invalid value encountered in multiply\n",
      " /Users/ipaulo/anaconda/lib/python3.5/site-packages/paramz/transformations.py:106: RuntimeWarning:invalid value encountered in greater\n",
      " /Users/ipaulo/anaconda/lib/python3.5/site-packages/paramz/transformations.py:111: RuntimeWarning:invalid value encountered in greater\n"
     ]
    }
   ],
   "source": [
    "k = gpy.kern.RBF(21)\n",
    "n_restarts = 2 \n",
    "models = [gpy.models.GPRegression(Xtr, Ytr[:, [i]], kernel=k.copy()) for i in range(Ytr.shape[1])]\n",
    "[m.optimize_restarts(num_restarts=n_restarts, verbose=False, robust=True) for m in models];"
   ]
  },
  {
   "cell_type": "code",
   "execution_count": 164,
   "metadata": {},
   "outputs": [],
   "source": [
    "def predict_simple_mogp(Xts, models):\n",
    "    return np.hstack([m.predict(Xts)[0] for m in models ]) \n",
    "\n",
    "def get_mogp_score(preds, Yts):\n",
    "    \"\"\"return mean reward – aka mean squared euclidian distance\"\"\"\n",
    "    return np.square(Yts - preds).sum(axis=1).mean()"
   ]
  },
  {
   "cell_type": "code",
   "execution_count": 165,
   "metadata": {},
   "outputs": [
    {
     "data": {
      "text/plain": [
       "42.350970174520036"
      ]
     },
     "execution_count": 165,
     "metadata": {},
     "output_type": "execute_result"
    }
   ],
   "source": [
    "get_mogp_score(predict_simple_mogp(Xts, models), Yts)"
   ]
  },
  {
   "cell_type": "markdown",
   "metadata": {},
   "source": [
    "###  Simple miltioutput GP "
   ]
  },
  {
   "cell_type": "code",
   "execution_count": 166,
   "metadata": {},
   "outputs": [],
   "source": [
    "k = gpy.kern.RBF(21)\n",
    "m = gpy.models.GPRegression(Xtr, Ytr, kernel=k) \n",
    "m.optimize_restarts(num_restarts=n_restarts, verbose=False, robust=True);"
   ]
  },
  {
   "cell_type": "code",
   "execution_count": null,
   "metadata": {},
   "outputs": [],
   "source": [
    "get_mogp_score(m.predict(Xts)[0], Yts)"
   ]
  },
  {
   "cell_type": "markdown",
   "metadata": {},
   "source": [
    "### Coregionalized regression"
   ]
  },
  {
   "cell_type": "code",
   "execution_count": null,
   "metadata": {},
   "outputs": [],
   "source": [
    "kernel = GPy.util.multioutput.ICM(input_dim=1,num_outputs=2,kernel=GPy.kern.Bias(input_dim=1))\n",
    "m = GPy.models.GPCoregionalizedRegression(X_list=[X1,X2],Y_list=[Y1,Y2],kernel=kernel)\n",
    "m['.*bias.var'].constrain_fixed(1) #B.kappa now encodes the variance.\n",
    "m['.*W'].constrain_fixed(0)\n",
    "m.optimize()"
   ]
  },
  {
   "cell_type": "code",
   "execution_count": null,
   "metadata": {},
   "outputs": [],
   "source": [
    "K = GPy.kern.Matern32(1)\n",
    "icm = GPy.util.multioutput.ICM(input_dim=1,num_outputs=2,kernel=K)\n",
    "\n",
    "m = GPy.models.GPCoregionalizedRegression([X1,X2],[Y1,Y2],kernel=icm)\n",
    "m['.*Mat32.var'].constrain_fixed(1.) #For this kernel, B.kappa encodes the variance now.\n",
    "m.optimize()"
   ]
  },
  {
   "cell_type": "code",
   "execution_count": 111,
   "metadata": {},
   "outputs": [],
   "source": [
    "from itertools import  repeat"
   ]
  },
  {
   "cell_type": "code",
   "execution_count": null,
   "metadata": {},
   "outputs": [],
   "source": [
    "n_output = 7\n",
    "icm = gpy.util.multioutput.ICM(input_dim=21,num_outputs=n_output,kernel=gpy.kern.RBF(21))\n",
    "m = gpy.models.GPCoregionalizedRegression(list(repeat(Xtr, n_output)), np.split(Ytr, 7, axis=1), kernel=icm)\n",
    "m.optimize()\n",
    "# prediction data should include number of component\n",
    "m.predict(list(repeat(Xtr, n_output))) # this will fail"
   ]
  }
 ],
 "metadata": {
  "kernelspec": {
   "display_name": "Python [default]",
   "language": "python",
   "name": "python3"
  },
  "language_info": {
   "codemirror_mode": {
    "name": "ipython",
    "version": 3
   },
   "file_extension": ".py",
   "mimetype": "text/x-python",
   "name": "python",
   "nbconvert_exporter": "python",
   "pygments_lexer": "ipython3",
   "version": "3.5.2"
  }
 },
 "nbformat": 4,
 "nbformat_minor": 1
}
