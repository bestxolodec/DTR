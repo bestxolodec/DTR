{
 "cells": [
  {
   "cell_type": "code",
   "execution_count": 4,
   "metadata": {
    "collapsed": false
   },
   "outputs": [
    {
     "name": "stderr",
     "output_type": "stream",
     "text": [
      "Loading SVMW\n",
      "Loading required package: Matrix\n",
      "\n",
      "Attaching package: ‘Matrix’\n",
      "\n",
      "The following object is masked from ‘package:reshape’:\n",
      "\n",
      "    expand\n",
      "\n",
      "Loaded glmnet 2.0-2\n",
      "\n"
     ]
    }
   ],
   "source": [
    "library(repr)\n",
    "options(repr.plot.width=11, repr.plot.height=8, repr.plot.res = 80, repr.plot.quality = 30)\n",
    "options(jupyter.plot_mimetypes = 'image/png')\n",
    "\n",
    "setwd(\"~/yandexDisk/DIPLOMA/CODE/src\")\n",
    "source(\"simulations.functions.R\", echo=FALSE)\n",
    "debug.file <- \".various.Rdata/Iter.info\"\n",
    "source('../../OWL/O_learning_functions.r')"
   ]
  },
  {
   "cell_type": "code",
   "execution_count": null,
   "metadata": {
    "collapsed": true
   },
   "outputs": [],
   "source": []
  },
  {
   "cell_type": "code",
   "execution_count": null,
   "metadata": {
    "collapsed": true
   },
   "outputs": [],
   "source": []
  }
 ],
 "metadata": {
  "kernelspec": {
   "display_name": "R",
   "language": "R",
   "name": "ir"
  },
  "language_info": {
   "codemirror_mode": "r",
   "file_extension": ".r",
   "mimetype": "text/x-r-source",
   "name": "R",
   "pygments_lexer": "r",
   "version": "3.2.3"
  }
 },
 "nbformat": 4,
 "nbformat_minor": 0
}
